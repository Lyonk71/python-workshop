{
 "cells": [
  {
   "cell_type": "markdown",
   "metadata": {},
   "source": [
    "## Walkthrough #1\n",
    "---"
   ]
  },
  {
   "cell_type": "markdown",
   "metadata": {},
   "source": [
    "1. Import the pandas library"
   ]
  },
  {
   "cell_type": "code",
   "execution_count": 1,
   "metadata": {},
   "outputs": [],
   "source": [
    "import pandas as pd"
   ]
  },
  {
   "cell_type": "markdown",
   "metadata": {},
   "source": [
    "2. Load npi_dataset.csv as a dataframe"
   ]
  },
  {
   "cell_type": "code",
   "execution_count": null,
   "metadata": {},
   "outputs": [],
   "source": [
    "df = pd.read_excel('icons.xlsx')"
   ]
  },
  {
   "cell_type": "markdown",
   "metadata": {},
   "source": [
    "3. Create function you want to apply"
   ]
  },
  {
   "cell_type": "code",
   "execution_count": 4,
   "metadata": {},
   "outputs": [],
   "source": [
    "def word_length(x):\n",
    "    if len(x) >10:\n",
    "        return 'long word'\n",
    "    else:\n",
    "        return 'short word'"
   ]
  },
  {
   "cell_type": "markdown",
   "metadata": {},
   "source": [
    "4. Apply function to column"
   ]
  },
  {
   "cell_type": "code",
   "execution_count": 8,
   "metadata": {},
   "outputs": [
    {
     "data": {
      "text/html": [
       "<div>\n",
       "<style scoped>\n",
       "    .dataframe tbody tr th:only-of-type {\n",
       "        vertical-align: middle;\n",
       "    }\n",
       "\n",
       "    .dataframe tbody tr th {\n",
       "        vertical-align: top;\n",
       "    }\n",
       "\n",
       "    .dataframe thead th {\n",
       "        text-align: right;\n",
       "    }\n",
       "</style>\n",
       "<table border=\"1\" class=\"dataframe\">\n",
       "  <thead>\n",
       "    <tr style=\"text-align: right;\">\n",
       "      <th></th>\n",
       "      <th>user_id</th>\n",
       "      <th>first_name</th>\n",
       "      <th>last_name</th>\n",
       "      <th>profession</th>\n",
       "      <th>a_new_column</th>\n",
       "    </tr>\n",
       "  </thead>\n",
       "  <tbody>\n",
       "    <tr>\n",
       "      <td>0</td>\n",
       "      <td>0</td>\n",
       "      <td>Indiana</td>\n",
       "      <td>Jones</td>\n",
       "      <td>Archaeologist</td>\n",
       "      <td>long word</td>\n",
       "    </tr>\n",
       "    <tr>\n",
       "      <td>1</td>\n",
       "      <td>1</td>\n",
       "      <td>Harry</td>\n",
       "      <td>Potter</td>\n",
       "      <td>Wizard</td>\n",
       "      <td>short word</td>\n",
       "    </tr>\n",
       "    <tr>\n",
       "      <td>2</td>\n",
       "      <td>2</td>\n",
       "      <td>Tony</td>\n",
       "      <td>Stark</td>\n",
       "      <td>Entrepreneur</td>\n",
       "      <td>long word</td>\n",
       "    </tr>\n",
       "    <tr>\n",
       "      <td>3</td>\n",
       "      <td>3</td>\n",
       "      <td>Rocky</td>\n",
       "      <td>Balboa</td>\n",
       "      <td>Boxer</td>\n",
       "      <td>short word</td>\n",
       "    </tr>\n",
       "    <tr>\n",
       "      <td>4</td>\n",
       "      <td>4</td>\n",
       "      <td>Westley</td>\n",
       "      <td>Roberts</td>\n",
       "      <td>Dread Pirate</td>\n",
       "      <td>long word</td>\n",
       "    </tr>\n",
       "    <tr>\n",
       "      <td>5</td>\n",
       "      <td>5</td>\n",
       "      <td>Jean-Luc</td>\n",
       "      <td>Picard</td>\n",
       "      <td>Starfleet Officer</td>\n",
       "      <td>long word</td>\n",
       "    </tr>\n",
       "    <tr>\n",
       "      <td>6</td>\n",
       "      <td>6</td>\n",
       "      <td>Rick</td>\n",
       "      <td>Deckard</td>\n",
       "      <td>Detective</td>\n",
       "      <td>short word</td>\n",
       "    </tr>\n",
       "    <tr>\n",
       "      <td>7</td>\n",
       "      <td>7</td>\n",
       "      <td>Leonard</td>\n",
       "      <td>Euler</td>\n",
       "      <td>Mathematician</td>\n",
       "      <td>long word</td>\n",
       "    </tr>\n",
       "    <tr>\n",
       "      <td>8</td>\n",
       "      <td>8</td>\n",
       "      <td>Edward</td>\n",
       "      <td>Teller</td>\n",
       "      <td>Physicist</td>\n",
       "      <td>short word</td>\n",
       "    </tr>\n",
       "    <tr>\n",
       "      <td>9</td>\n",
       "      <td>9</td>\n",
       "      <td>Tim</td>\n",
       "      <td>Berners-Lee</td>\n",
       "      <td>Computer Scientist</td>\n",
       "      <td>long word</td>\n",
       "    </tr>\n",
       "    <tr>\n",
       "      <td>10</td>\n",
       "      <td>10</td>\n",
       "      <td>Christopher</td>\n",
       "      <td>Columbus</td>\n",
       "      <td>Explorer</td>\n",
       "      <td>short word</td>\n",
       "    </tr>\n",
       "  </tbody>\n",
       "</table>\n",
       "</div>"
      ],
      "text/plain": [
       "    user_id   first_name    last_name          profession a_new_column\n",
       "0         0      Indiana        Jones       Archaeologist    long word\n",
       "1         1        Harry       Potter              Wizard   short word\n",
       "2         2         Tony        Stark        Entrepreneur    long word\n",
       "3         3        Rocky       Balboa               Boxer   short word\n",
       "4         4      Westley      Roberts        Dread Pirate    long word\n",
       "5         5     Jean-Luc       Picard   Starfleet Officer    long word\n",
       "6         6         Rick      Deckard           Detective   short word\n",
       "7         7      Leonard        Euler       Mathematician    long word\n",
       "8         8       Edward       Teller           Physicist   short word\n",
       "9         9          Tim  Berners-Lee  Computer Scientist    long word\n",
       "10       10  Christopher     Columbus            Explorer   short word"
      ]
     },
     "execution_count": 8,
     "metadata": {},
     "output_type": "execute_result"
    }
   ],
   "source": [
    "df['a_new_column'] = df['profession'].apply(lambda x: word_length(x))\n",
    "df"
   ]
  }
 ],
 "metadata": {
  "kernelspec": {
   "display_name": "Python 3",
   "language": "python",
   "name": "python3"
  },
  "language_info": {
   "codemirror_mode": {
    "name": "ipython",
    "version": 3
   },
   "file_extension": ".py",
   "mimetype": "text/x-python",
   "name": "python",
   "nbconvert_exporter": "python",
   "pygments_lexer": "ipython3",
   "version": "3.6.8"
  }
 },
 "nbformat": 4,
 "nbformat_minor": 4
}
