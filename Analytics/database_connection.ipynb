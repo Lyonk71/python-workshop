{
 "cells": [
  {
   "cell_type": "markdown",
   "metadata": {},
   "source": [
    "## Database Connection\n",
    "---"
   ]
  },
  {
   "cell_type": "markdown",
   "metadata": {},
   "source": [
    "### Imports"
   ]
  },
  {
   "cell_type": "code",
   "execution_count": null,
   "metadata": {},
   "outputs": [],
   "source": [
    "import vertica_python\n",
    "import pandas as p"
   ]
  },
  {
   "cell_type": "markdown",
   "metadata": {},
   "source": [
    "### Connection details"
   ]
  },
  {
   "cell_type": "code",
   "execution_count": null,
   "metadata": {},
   "outputs": [],
   "source": [
    "conn_info = {\n",
    "    \"host\": \"host_name_goes_here\",\n",
    "    \"port\": 1234, \n",
    "    \"user\": os.environ.get(\"mdwuser\"),\n",
    "    \"password\": os.environ.get(\"mdwpwd\"),\n",
    "    \"database\" : os.environ.get(\"mbase\"),\n",
    "    \"use_prepared_statements\": true,\n",
    "}"
   ]
  },
  {
   "cell_type": "markdown",
   "metadata": {},
   "source": [
    "### Extract data"
   ]
  },
  {
   "cell_type": "code",
   "execution_count": null,
   "metadata": {},
   "outputs": [],
   "source": [
    "with vertica_python.connect(**conn_info) as conn:\n",
    "    cur = conn.cursor(\"dict\")\n",
    "    cur.execute(\n",
    "        \"SELECT x.*, y.program_name, y.ncqa_std_yr, y.certification_level \\\n",
    "        FROM some_schema.some_table AS x \\\n",
    "        LEFT JOIN some_schema.some_table as y ON x.assigned_practice_site_id = y.practice_site_id\"\n",
    "    )\n",
    "    df = pd.dataframe(cur.fetchall())"
   ]
  }
 ],
 "metadata": {
  "kernelspec": {
   "display_name": "Python 3",
   "language": "python",
   "name": "python3"
  },
  "language_info": {
   "codemirror_mode": {
    "name": "ipython",
    "version": 3
   },
   "file_extension": ".py",
   "mimetype": "text/x-python",
   "name": "python",
   "nbconvert_exporter": "python",
   "pygments_lexer": "ipython3",
   "version": "3.6.8"
  }
 },
 "nbformat": 4,
 "nbformat_minor": 4
}
