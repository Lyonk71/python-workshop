{
 "cells": [
  {
   "cell_type": "markdown",
   "metadata": {},
   "source": [
    "## Welcome to Python"
   ]
  },
  {
   "cell_type": "markdown",
   "metadata": {},
   "source": [
    "### Fundamentals\n",
    "---\n",
    "1. [History](Fundamentals/history.ipynb)\n",
    "2. [First Program](Fundamentals/first_program.ipynb)\n",
    "2. [Object Types](Fundamentals/object_types.ipynb)\n",
    "3. Operators\n",
    " * [Arithmetic Operators](Fundamentals/arithmetic_operators.ipynb)\n",
    " * [Relational Operators](Fundamentals/relational_operators.ipynb)\n",
    " * [Logical Operators](Fundamentals/logical_operators.ipynb)\n",
    " * [Membership Operators](Fundamentals/membership_operators.ipynb)\n",
    " * [Identity Operators](Fundamentals/identity_operators.ipynb)\n",
    "4. [Keywords](Fundamentals/keywords.ipynb)\n",
    " * [Conditional Statements](Fundamentals/conditional_statements.ipynb)\n",
    " * [Error Handling](Fundamentals/error_handling.ipynb)\n",
    " * [Functions](Fundamentals/functions.ipynb)\n",
    " * [Loops](Fundamentals/loops.ipynb)\n",
    "5. [Built-in Functions & Methods](Fundamentals/built_in_functions.ipynb)\n",
    "* [Self Quiz](Fundamentals/self_quiz.ipynb)\n",
    "* [Self Quiz Answers](Fundamentals/self_quiz_answers.ipynb)"
   ]
  },
  {
   "cell_type": "markdown",
   "metadata": {},
   "source": [
    "### Analytics\n",
    "---\n",
    "1. [Pandas Basics](Analytics/pandas.ipynb)\n",
    "2. [Charts and Plots](Analytics/charts_and_plots.ipynb)\n",
    "3. [Pivot Tables](Analytics/pivot_tables.ipynb)\n",
    "4. [Merge and Concatenate](Analytics/merge_and_concatenate.ipynb)\n",
    "5. [Pandasql](Analytics/pandasql.ipynb)\n",
    "6. [Lambda Functions](Analytics/lambda_functions.ipynb)\n",
    "6. [Database Connection](Analytics/database_connection.ipynb)\n",
    "\n",
    "* [Walkthrough 1](Analytics/walkthrough_1.ipynb)\n",
    "* [Walkthrough 1 Answers](Analytics/walkthrough_1_answers.ipynb)\n",
    "* [Walkthrough 2](Analytics/walkthrough_2.ipynb)\n",
    "* [Walkthrough 2_Answers](Analytics/walkthrough_2_answers.ipynb)"
   ]
  }
 ],
 "metadata": {
  "kernelspec": {
   "display_name": "Python 3",
   "language": "python",
   "name": "python3"
  },
  "language_info": {
   "codemirror_mode": {
    "name": "ipython",
    "version": 3
   },
   "file_extension": ".py",
   "mimetype": "text/x-python",
   "name": "python",
   "nbconvert_exporter": "python",
   "pygments_lexer": "ipython3",
   "version": "3.6.8"
  }
 },
 "nbformat": 4,
 "nbformat_minor": 4
}
