{
 "cells": [
  {
   "cell_type": "markdown",
   "metadata": {},
   "source": [
    "## Self Quiz"
   ]
  },
  {
   "cell_type": "markdown",
   "metadata": {},
   "source": [
    "### Temperature Conversion\n",
    "---\n",
    "1. Ask a user to enter a temperature in degrees celcius\n",
    "2. Convert the temperature to degrees farenheit\n",
    "3. Respond to the user, returing the degrees farenheit\n",
    "\n",
    "$\n",
    "\\begin{align}\n",
    "\\quad\n",
    "\\space\n",
    "F = \\frac{9}{5} \\cdot C + 32\n",
    "\\end{align}\n",
    "$\n"
   ]
  },
  {
   "cell_type": "code",
   "execution_count": null,
   "metadata": {},
   "outputs": [],
   "source": [
    "# enter code here"
   ]
  },
  {
   "cell_type": "markdown",
   "metadata": {},
   "source": [
    "### Countdown\n",
    "---\n",
    "1. Ask user to enter their favorite number\n",
    "2. Respond to the user that you will destroy their favorite number. Be sure to repeat the number they entered for effect.\n",
    "3. Destroy the number by creating a loop that subtracts 1 from the number until it hits zero\n",
    "4. Inform the user that their favorite number has been utterly destroyed"
   ]
  },
  {
   "cell_type": "code",
   "execution_count": null,
   "metadata": {},
   "outputs": [],
   "source": [
    "# enter code here"
   ]
  },
  {
   "cell_type": "markdown",
   "metadata": {},
   "source": [
    "### Greeting by Language\n",
    "---\n",
    "1. Ask the user to input a language so that you can greet them in the language\n",
    "2. Produce logic that either says \"hello\", or informs the user that the program is not familiar with that language"
   ]
  },
  {
   "cell_type": "code",
   "execution_count": 4,
   "metadata": {},
   "outputs": [
    {
     "name": "stdin",
     "output_type": "stream",
     "text": [
      "Name a language, and I will greet you in it!  english\n"
     ]
    },
    {
     "name": "stdout",
     "output_type": "stream",
     "text": [
      "Sorry, I do not speak english\n"
     ]
    }
   ],
   "source": [
    "# enter code here   "
   ]
  },
  {
   "cell_type": "markdown",
   "metadata": {},
   "source": [
    "### Grading Program\n",
    "---\n",
    "1. Ask the user to enter a grade between 0 and 1\n",
    "2. Return a letter grade\n",
    "3. In the event of erroneous input, remind the user to enter a numeric between 0 and 1  \n",
    "without throwing a traceback."
   ]
  },
  {
   "cell_type": "code",
   "execution_count": null,
   "metadata": {},
   "outputs": [],
   "source": [
    "# enter code here   "
   ]
  },
  {
   "cell_type": "markdown",
   "metadata": {},
   "source": [
    "### Wages and Overtime Calculator\n",
    "---\n",
    "Create a function to calculate wages & overtime pay. The function must:\n",
    "1. Ask the user to enter their wages & work hours for the week.\n",
    "2. Calculate the pay, including a 50 percent pay bonus for any hours worked beyond 40 hours.\n",
    "3. Write the program so that if the user enters non-numeric values, the program prompts them.  \n",
    "to input a number, instead of throwing a traceback."
   ]
  },
  {
   "cell_type": "code",
   "execution_count": null,
   "metadata": {},
   "outputs": [],
   "source": [
    "# enter code here   "
   ]
  },
  {
   "cell_type": "markdown",
   "metadata": {},
   "source": [
    "### Fizzbuzz\n",
    "---\n",
    "Write a program that prints out the numbers 1 to 100.\n",
    " * If the number being printed is divisible by 3, instead reply fizz.\n",
    " * If the number being printed is divisible by 5, instead reply buzz.\n",
    " * if the number being printed is divisible by 3 and 5, instead reply fizzbuzz"
   ]
  },
  {
   "cell_type": "code",
   "execution_count": null,
   "metadata": {},
   "outputs": [],
   "source": [
    "# enter code here      "
   ]
  },
  {
   "cell_type": "markdown",
   "metadata": {},
   "source": [
    "### Monte Carlo\n",
    "---\n",
    "Write a Monte Carlo simulation that:\n",
    "1. Asks the user to input a mathematical function they would like to maximize (Python format).\n",
    "2. Asks the user to input a lower bound.\n",
    "3. Asks the user to input an upper bound.\n",
    "4. Asks how many iterations the simulation should run for.\n",
    "5. Run the simulation by calculating the function at random points using the above parameters\n",
    "6. Print the higest value from your simulation."
   ]
  },
  {
   "cell_type": "code",
   "execution_count": null,
   "metadata": {},
   "outputs": [],
   "source": [
    "# enter code here   "
   ]
  },
  {
   "cell_type": "markdown",
   "metadata": {},
   "source": [
    "### Approximate Pi\n",
    "---\n",
    "In 1593, Francoi Viete developed an infinite product used to approximate Pi:\n",
    "\n",
    "$\n",
    "\\begin{align}\n",
    "\\pi = 2 \\cdot \\frac{2}{\\sqrt{2}} \\cdot \\frac{2}{\\sqrt{2+\\sqrt{2}}} \\cdot \\frac{2}{\\sqrt{2+\\sqrt{2+\\sqrt{2}}}}\n",
    "\\text{, etc...}\n",
    "\\end{align}\n",
    "$\n",
    "\n",
    "Convert this formula into an algorithm, and use that to print successively closer estimates of pi"
   ]
  },
  {
   "cell_type": "code",
   "execution_count": null,
   "metadata": {},
   "outputs": [],
   "source": [
    "# enter code here"
   ]
  }
 ],
 "metadata": {
  "kernelspec": {
   "display_name": "Python 3",
   "language": "python",
   "name": "python3"
  },
  "language_info": {
   "codemirror_mode": {
    "name": "ipython",
    "version": 3
   },
   "file_extension": ".py",
   "mimetype": "text/x-python",
   "name": "python",
   "nbconvert_exporter": "python",
   "pygments_lexer": "ipython3",
   "version": "3.6.8"
  }
 },
 "nbformat": 4,
 "nbformat_minor": 4
}
