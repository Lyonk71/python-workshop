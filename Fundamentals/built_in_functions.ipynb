{
 "cells": [
  {
   "cell_type": "markdown",
   "metadata": {},
   "source": [
    "## Built-in Functions"
   ]
  },
  {
   "cell_type": "markdown",
   "metadata": {},
   "source": [
    "### List of Built-in functions\n",
    "---\n",
    "<img src=\"builtin_functions.png\" width=500>"
   ]
  },
  {
   "cell_type": "markdown",
   "metadata": {},
   "source": [
    "### Built-in Numeric Functions\n",
    "---"
   ]
  },
  {
   "cell_type": "markdown",
   "metadata": {},
   "source": [
    "#### int:"
   ]
  },
  {
   "cell_type": "code",
   "execution_count": null,
   "metadata": {},
   "outputs": [],
   "source": [
    "# convert to type integer\n",
    "x = '5'\n",
    "y = 6\n",
    "z = int(x) + y\n",
    "\n",
    "print(z)"
   ]
  },
  {
   "cell_type": "markdown",
   "metadata": {},
   "source": [
    "#### float:"
   ]
  },
  {
   "cell_type": "code",
   "execution_count": 7,
   "metadata": {},
   "outputs": [
    {
     "name": "stdout",
     "output_type": "stream",
     "text": [
      "8.3\n"
     ]
    }
   ],
   "source": [
    "# convert to type float\n",
    "x = '5.1'\n",
    "y = 3.2\n",
    "z = float(x) + y\n",
    "\n",
    "print(z)"
   ]
  },
  {
   "cell_type": "markdown",
   "metadata": {},
   "source": [
    "#### abs: "
   ]
  },
  {
   "cell_type": "code",
   "execution_count": null,
   "metadata": {},
   "outputs": [],
   "source": [
    "# find the absolute value\n",
    "x = -5\n",
    "x = abs(x)\n",
    "\n",
    "print(x)"
   ]
  },
  {
   "cell_type": "markdown",
   "metadata": {},
   "source": [
    "#### round:"
   ]
  },
  {
   "cell_type": "code",
   "execution_count": null,
   "metadata": {},
   "outputs": [],
   "source": [
    "# round a number\n",
    "x = 12.5\n",
    "x = round(x)\n",
    "\n",
    "print(x)"
   ]
  },
  {
   "cell_type": "markdown",
   "metadata": {},
   "source": [
    "#### format:"
   ]
  },
  {
   "cell_type": "code",
   "execution_count": null,
   "metadata": {},
   "outputs": [],
   "source": [
    "# specify the numeric format you want to use\n",
    "x = 9000\n",
    "y = format(x, ',')\n",
    "\n",
    "print(x)\n",
    "print(y)"
   ]
  },
  {
   "cell_type": "markdown",
   "metadata": {},
   "source": [
    "### Built-in String Functions\n",
    "---"
   ]
  },
  {
   "cell_type": "markdown",
   "metadata": {},
   "source": [
    "#### str:"
   ]
  },
  {
   "cell_type": "code",
   "execution_count": null,
   "metadata": {},
   "outputs": [],
   "source": [
    "# convert to type string\n",
    "x = ['hello', 'kitty']\n",
    "x = str(x)\n",
    "\n",
    "print(x)"
   ]
  },
  {
   "cell_type": "markdown",
   "metadata": {},
   "source": [
    "#### len:"
   ]
  },
  {
   "cell_type": "code",
   "execution_count": null,
   "metadata": {},
   "outputs": [],
   "source": [
    "# count the number of items in an object. could be characters in a string, items in a list, etc.\n",
    "x = 'apple'\n",
    "x = len(x)\n",
    "\n",
    "y = ['mario', 'luigi', 'godzilla']\n",
    "y = len(y)\n",
    "\n",
    "print(x)\n",
    "print(y)"
   ]
  },
  {
   "cell_type": "markdown",
   "metadata": {},
   "source": [
    "### Built-in Sequence Functions\n",
    "---"
   ]
  },
  {
   "cell_type": "markdown",
   "metadata": {},
   "source": [
    "#### range:"
   ]
  },
  {
   "cell_type": "code",
   "execution_count": null,
   "metadata": {},
   "outputs": [],
   "source": [
    "# Range is an immutable sequence type similar to a list.\n",
    "# It differs from a list or tuple because only one element in a range is stored in memory at a time.\n",
    "# This makes range efficent for doing piecewise work, such as iterating though a loop.\n",
    "\n",
    "for i in range(1,5):\n",
    "    print(i)"
   ]
  },
  {
   "cell_type": "markdown",
   "metadata": {},
   "source": [
    "#### enumerate:"
   ]
  },
  {
   "cell_type": "code",
   "execution_count": null,
   "metadata": {},
   "outputs": [],
   "source": [
    "# creates a numbered tuple over every item in an iterable\n",
    "# useful for creating dictionaries from lists, or for referencing an index in a loop.\n",
    "# output is an\n",
    "\n",
    "seasons = ['Spring', 'Summer', 'Fall', 'Winter']\n",
    "\n",
    "for i in enumerate(seasons):\n",
    "    print(i)"
   ]
  },
  {
   "cell_type": "markdown",
   "metadata": {},
   "source": [
    "#### filter:"
   ]
  },
  {
   "cell_type": "code",
   "execution_count": null,
   "metadata": {},
   "outputs": [],
   "source": [
    "# Check each item in an iterable against a function.\n",
    "# If the function retuns False, the element of the iterable is removed\n",
    "# filter constructs an iterator, and does not return your original object type\n",
    "\n",
    "cool_list = [-1, 0, 1, 2, 3]\n",
    "\n",
    "def greater_than_1(silly_variable):\n",
    "    if silly_variable > 1:\n",
    "        return True\n",
    "    else:\n",
    "        return False\n",
    "\n",
    "filtered_list = list(filter(greater_than_1, cool_list))\n",
    "\n",
    "print(cool_list)\n",
    "print(filtered_list)"
   ]
  },
  {
   "cell_type": "markdown",
   "metadata": {},
   "source": [
    "#### map:"
   ]
  },
  {
   "cell_type": "code",
   "execution_count": null,
   "metadata": {},
   "outputs": [],
   "source": [
    "# apply a function to every element of an iterable\n",
    "\n",
    "cool_list = [1, 2, 3]\n",
    "\n",
    "def add_1():\n",
    "    x = x + 1\n",
    "    return x\n",
    "\n",
    "list_updates = list(map(add_1, list))"
   ]
  },
  {
   "cell_type": "markdown",
   "metadata": {},
   "source": [
    "#### zip:"
   ]
  },
  {
   "cell_type": "code",
   "execution_count": null,
   "metadata": {},
   "outputs": [],
   "source": [
    "# takes iterables and aggregates them piecewise into an iterator of tuples\n",
    "index_list = [1, 2, 3]\n",
    "city_list = ['London', 'Paris', 'Berlin']\n",
    "\n",
    "new_list = list(zip(index_list, city_list))\n",
    "\n",
    "print(new_list)"
   ]
  },
  {
   "cell_type": "markdown",
   "metadata": {},
   "source": [
    "#### tuple:"
   ]
  },
  {
   "cell_type": "code",
   "execution_count": null,
   "metadata": {},
   "outputs": [],
   "source": [
    "# create a tuple from an iterator or an iterable\n",
    "\n",
    "funky_list = ['funky 1', 2, 'We want the funk']\n",
    "funky_tuple = tuple(funky_list)\n",
    "\n",
    "print(funky_tuple)"
   ]
  },
  {
   "cell_type": "markdown",
   "metadata": {},
   "source": [
    "#### dict:"
   ]
  },
  {
   "cell_type": "code",
   "execution_count": null,
   "metadata": {},
   "outputs": [],
   "source": [
    "# create a dictionary from an iterator or an iterable\n",
    "\n",
    "funky_list_of_tuples = [('mario', 'nintendo'), ('sonic', 'sega'), ('FF7', 'PC')]\n",
    "funky_dict = dict(funky_list_of_tuples)\n",
    "\n",
    "print(funky_dict)"
   ]
  },
  {
   "cell_type": "markdown",
   "metadata": {},
   "source": [
    "#### list:"
   ]
  },
  {
   "cell_type": "code",
   "execution_count": null,
   "metadata": {},
   "outputs": [],
   "source": [
    "# create a list from an iterator or an iterable\n",
    "\n",
    "movie_tuple = ('jaws', 'jurassic park', 'indiana jones')\n",
    "movie_list = list(movie_tuple)\n",
    "\n",
    "print(movie_list)"
   ]
  },
  {
   "cell_type": "markdown",
   "metadata": {},
   "source": [
    "#### set:"
   ]
  },
  {
   "cell_type": "code",
   "execution_count": null,
   "metadata": {},
   "outputs": [],
   "source": [
    "# create a set from an iterator or an iterable\n",
    "\n",
    "grocery_tuple = ('pineapple', 'mango', 'mango', 'apple')\n",
    "grocery_set = set(grocery_tuple)\n",
    "\n",
    "print(grocery_set)"
   ]
  },
  {
   "cell_type": "markdown",
   "metadata": {},
   "source": [
    "#### max:"
   ]
  },
  {
   "cell_type": "code",
   "execution_count": null,
   "metadata": {},
   "outputs": [],
   "source": [
    "# extracts the maximum value from an iterable\n",
    "\n",
    "x = max((1, 2, 3, 4, 5))\n",
    "\n",
    "print(x)"
   ]
  },
  {
   "cell_type": "markdown",
   "metadata": {},
   "source": [
    "#### min:"
   ]
  },
  {
   "cell_type": "code",
   "execution_count": null,
   "metadata": {},
   "outputs": [],
   "source": [
    "# extracts the minimum value from an iterable\n",
    "\n",
    "x = min([-5, 0, 5, 10])\n",
    "\n",
    "print(x)"
   ]
  },
  {
   "cell_type": "markdown",
   "metadata": {},
   "source": [
    "#### sum:"
   ]
  },
  {
   "cell_type": "code",
   "execution_count": null,
   "metadata": {},
   "outputs": [],
   "source": [
    "# sums all values in an iterable\n",
    "\n",
    "x = sum((1, 2, 3))\n",
    "\n",
    "print(x)"
   ]
  },
  {
   "cell_type": "markdown",
   "metadata": {},
   "source": [
    "### Built-in Miscellaneous Functions\n",
    "---"
   ]
  },
  {
   "cell_type": "markdown",
   "metadata": {},
   "source": [
    "#### print:"
   ]
  },
  {
   "cell_type": "code",
   "execution_count": null,
   "metadata": {},
   "outputs": [],
   "source": [
    "# prints a value to the console\n",
    "\n",
    "x = 45\n",
    "\n",
    "print('you can print text and numbers together', x)"
   ]
  },
  {
   "cell_type": "markdown",
   "metadata": {},
   "source": [
    "#### input:"
   ]
  },
  {
   "cell_type": "code",
   "execution_count": null,
   "metadata": {},
   "outputs": [],
   "source": [
    "# create a variable from user input\n",
    "\n",
    "x = input('What is your favorite color?')\n",
    "\n",
    "print(x + \". I've always said that's a good color!\")"
   ]
  },
  {
   "cell_type": "markdown",
   "metadata": {},
   "source": [
    "#### type:"
   ]
  },
  {
   "cell_type": "code",
   "execution_count": null,
   "metadata": {},
   "outputs": [],
   "source": [
    "# show a variable's type\n",
    "\n",
    "x = '1337'\n",
    "print(type(x))\n",
    "\n",
    "x = 1337\n",
    "print(type(x))"
   ]
  },
  {
   "cell_type": "markdown",
   "metadata": {},
   "source": [
    "#### help:"
   ]
  },
  {
   "cell_type": "code",
   "execution_count": null,
   "metadata": {},
   "outputs": [],
   "source": [
    "# read the docstring of a function\n",
    "\n",
    "def go_to_10():\n",
    "    \"\"\"here is the docstring for the made up go_to_10 function\"\"\"\n",
    "    for i in range(1,10):\n",
    "        print(i)\n",
    "        \n",
    "help(go_to_10)"
   ]
  },
  {
   "cell_type": "markdown",
   "metadata": {},
   "source": [
    "## Built in Methods\n",
    "* Methods can be thought of as functions that belong to a class\n",
    "* A class is a template for building objects\n",
    "* The List, string, dictionary, set, and tuple object types are all classes"
   ]
  },
  {
   "cell_type": "markdown",
   "metadata": {},
   "source": [
    "### String Methods\n",
    "---"
   ]
  },
  {
   "cell_type": "markdown",
   "metadata": {},
   "source": [
    "#### replace:"
   ]
  },
  {
   "cell_type": "code",
   "execution_count": null,
   "metadata": {},
   "outputs": [],
   "source": [
    "# find and replace\n",
    "\n",
    "title = 'lord of the flies'\n",
    "title = title.replace('flies', 'rings')\n",
    "\n",
    "print(title)"
   ]
  },
  {
   "cell_type": "markdown",
   "metadata": {},
   "source": [
    "#### slice:"
   ]
  },
  {
   "cell_type": "code",
   "execution_count": null,
   "metadata": {},
   "outputs": [],
   "source": [
    "# slice a section of the text\n",
    "\n",
    "title = 'penny lane'\n",
    "title = title[1:8]\n",
    "\n",
    "print(title)"
   ]
  },
  {
   "cell_type": "markdown",
   "metadata": {},
   "source": [
    "#### strip:"
   ]
  },
  {
   "cell_type": "code",
   "execution_count": null,
   "metadata": {},
   "outputs": [],
   "source": [
    "#### remove leading & trailing whitespace\n",
    "\n",
    "title = '  the man with no spaces   '\n",
    "title = title.strip()\n",
    "\n",
    "print(title)"
   ]
  },
  {
   "cell_type": "markdown",
   "metadata": {},
   "source": [
    "#### split:"
   ]
  },
  {
   "cell_type": "code",
   "execution_count": null,
   "metadata": {},
   "outputs": [],
   "source": [
    "# break a string into items in a list based on a delimiter\n",
    "# default delimiter is a space\n",
    "\n",
    "x = 'an uninispired string with good intentions'\n",
    "x = x.split()\n",
    "\n",
    "print(x)"
   ]
  },
  {
   "cell_type": "markdown",
   "metadata": {},
   "source": [
    "### List Methods\n",
    "---"
   ]
  },
  {
   "cell_type": "markdown",
   "metadata": {},
   "source": [
    "#### append:"
   ]
  },
  {
   "cell_type": "code",
   "execution_count": null,
   "metadata": {},
   "outputs": [],
   "source": [
    "# add elements to a list\n",
    "\n",
    "empty_list = []\n",
    "\n",
    "empty_list.append('cheese doodles')\n",
    "empty_list.append('mountain dew')\n",
    "\n",
    "print(empty_list)"
   ]
  },
  {
   "cell_type": "markdown",
   "metadata": {},
   "source": [
    "#### slice:"
   ]
  },
  {
   "cell_type": "code",
   "execution_count": null,
   "metadata": {},
   "outputs": [],
   "source": [
    "# select a subset of list elements\n",
    "\n",
    "cloud_list = ['stratus', 'cirrus', 'cumulus']\n",
    "cloud_list = cloud_list[-1:]\n",
    "\n",
    "print(cloud_list)"
   ]
  },
  {
   "cell_type": "markdown",
   "metadata": {},
   "source": [
    "### Dictionary Methods\n",
    "---"
   ]
  },
  {
   "cell_type": "markdown",
   "metadata": {},
   "source": [
    "#### Keys:"
   ]
  },
  {
   "cell_type": "code",
   "execution_count": null,
   "metadata": {},
   "outputs": [],
   "source": [
    "# show the dictionary's keys\n",
    "\n",
    "car_dict = {1:'mustang', 2:'gallardo', 3:'corolla'}\n",
    "\n",
    "car_dict.keys()"
   ]
  },
  {
   "cell_type": "markdown",
   "metadata": {},
   "source": [
    "#### values:"
   ]
  },
  {
   "cell_type": "code",
   "execution_count": null,
   "metadata": {},
   "outputs": [],
   "source": [
    "# show the dictionary's values\n",
    "\n",
    "car_dict = {1:'mustang', 2:'gallardo', 3:'corolla'}\n",
    "\n",
    "car_dict.values()"
   ]
  }
 ],
 "metadata": {
  "kernelspec": {
   "display_name": "Python 3",
   "language": "python",
   "name": "python3"
  },
  "language_info": {
   "codemirror_mode": {
    "name": "ipython",
    "version": 3
   },
   "file_extension": ".py",
   "mimetype": "text/x-python",
   "name": "python",
   "nbconvert_exporter": "python",
   "pygments_lexer": "ipython3",
   "version": "3.6.8"
  }
 },
 "nbformat": 4,
 "nbformat_minor": 4
}
