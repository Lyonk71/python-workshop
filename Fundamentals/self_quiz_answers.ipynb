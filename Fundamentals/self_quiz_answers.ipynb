{
 "cells": [
  {
   "cell_type": "markdown",
   "metadata": {},
   "source": [
    "## Python Fundamentals Self Quiz"
   ]
  },
  {
   "cell_type": "markdown",
   "metadata": {},
   "source": [
    "### Temperature Conversion\n",
    "---"
   ]
  },
  {
   "cell_type": "code",
   "execution_count": null,
   "metadata": {},
   "outputs": [],
   "source": [
    "celcius = input('Enter temperature in celcius')\n",
    "farenheit = (9/5) * float(celcius) + 32\n",
    "print(celcius,'is equal to', farenheit,' degrees farenheit.')"
   ]
  },
  {
   "cell_type": "markdown",
   "metadata": {},
   "source": [
    "### Countdown\n",
    "---"
   ]
  },
  {
   "cell_type": "code",
   "execution_count": null,
   "metadata": {},
   "outputs": [],
   "source": [
    "favorite_number = input('Enter your favorite number ')\n",
    "print('Thank you. I will now destroy the number', favorite_number, ', for your convenience.')\n",
    "\n",
    "favorite_number = int(favorite_number)\n",
    "\n",
    "while favorite_number>0:\n",
    "    print(favorite_number)\n",
    "    favorite_number = favorite_number-1\n",
    "print('Congratulations, your favorite number has been eradicated. Have a nice day :).')"
   ]
  },
  {
   "cell_type": "markdown",
   "metadata": {},
   "source": [
    "### Greeting by Language\n",
    "---"
   ]
  },
  {
   "cell_type": "code",
   "execution_count": null,
   "metadata": {},
   "outputs": [],
   "source": [
    "def greet():\n",
    "    lang_dict = {'ENGLISH':'Hello!', \n",
    "             'GERMAN':'Hallo!', \n",
    "             'FRENCH':'Bonjour!',\n",
    "            'HUNGARIAN':'Szia!',\n",
    "            'TURKISH':'Merhaba!'}\n",
    "    lang_input = input('Name a language, and I will greet you in it! ')\n",
    "    lang = lang_input.upper()\n",
    "    try:\n",
    "        print(lang_dict[lang])\n",
    "    except:\n",
    "        print('Sorry, I do not speak', lang_input)\n",
    "        \n",
    "greet()"
   ]
  },
  {
   "cell_type": "markdown",
   "metadata": {},
   "source": [
    "### Grading Program\n",
    "---"
   ]
  },
  {
   "cell_type": "code",
   "execution_count": null,
   "metadata": {},
   "outputs": [],
   "source": [
    "x = input('Enter grade here ')\n",
    "\n",
    "try:\n",
    "    x = float(x)\n",
    "    if x >= .9:\n",
    "        print('Grade = A')\n",
    "    elif x >= .8:\n",
    "        print('Grade = B')\n",
    "    elif x >= .7:\n",
    "        print('Grade = C')\n",
    "    elif x >= .6:\n",
    "        print('Grade = D')\n",
    "    elif x < .6:\n",
    "        print('Grade = F')    \n",
    "except:\n",
    "    print('Grade needs to be between 0 and 1')"
   ]
  },
  {
   "cell_type": "markdown",
   "metadata": {},
   "source": [
    "### Wages and Overtime Calculator\n",
    "---"
   ]
  },
  {
   "cell_type": "code",
   "execution_count": null,
   "metadata": {},
   "outputs": [],
   "source": [
    "def computepay():\n",
    "    hours = input('Enter the number of hours you work per week... ')\n",
    "    pay = input('Enter how much you earn... ')\n",
    "    \n",
    "    try:\n",
    "        hours = float(hours)\n",
    "        pay = float(pay)\n",
    "\n",
    "        if hours <= 40:\n",
    "            print('You earned', hours*pay,'Dollars')\n",
    "        else:\n",
    "            print('You earned', pay * 40 + (hours - 40) * pay * 1.5, 'dollars.')\n",
    "    except:\n",
    "        print('Input needs to be a number')\n",
    "\n",
    "computepay()"
   ]
  },
  {
   "cell_type": "markdown",
   "metadata": {},
   "source": [
    "### Fizzbuzz\n",
    "---"
   ]
  },
  {
   "cell_type": "code",
   "execution_count": null,
   "metadata": {},
   "outputs": [],
   "source": [
    "for x in range(1,101):\n",
    "    if x%3 == 0 and x%5 == 0:\n",
    "        x = 'fizzbuzz'\n",
    "    elif x%3 == 0:\n",
    "        x = 'fizz'\n",
    "    elif x%5 == 0:\n",
    "        x = 'buzz'\n",
    "    print(x)      "
   ]
  },
  {
   "cell_type": "markdown",
   "metadata": {},
   "source": [
    "### Monte Carlo\n",
    "---"
   ]
  },
  {
   "cell_type": "code",
   "execution_count": null,
   "metadata": {},
   "outputs": [],
   "source": [
    "import random\n",
    "z = 0\n",
    "l = []\n",
    "\n",
    "expression = '-x**2 + 20'\n",
    "expression = expression.replace('x', '(random.randint(-200,200))')\n",
    "\n",
    "while z < 1000:\n",
    "    l.extend([eval(expression)])\n",
    "    z = z + 1\n",
    "print('process complete')\n",
    "print(max(l))"
   ]
  },
  {
   "cell_type": "markdown",
   "metadata": {},
   "source": [
    "### Approximate Pi\n",
    "---"
   ]
  },
  {
   "cell_type": "code",
   "execution_count": null,
   "metadata": {},
   "outputs": [],
   "source": [
    "pi_estimate = 2\n",
    "numerator = 2\n",
    "denominator = 2**(1/2)\n",
    "for i in range(10):\n",
    "    print(pi_estimate)\n",
    "    pi_estimate = pi_estimate*numerator/denominator\n",
    "    denominator = (2+denominator)**(1/2)"
   ]
  }
 ],
 "metadata": {
  "kernelspec": {
   "display_name": "Python 3",
   "language": "python",
   "name": "python3"
  },
  "language_info": {
   "codemirror_mode": {
    "name": "ipython",
    "version": 3
   },
   "file_extension": ".py",
   "mimetype": "text/x-python",
   "name": "python",
   "nbconvert_exporter": "python",
   "pygments_lexer": "ipython3",
   "version": "3.6.8"
  }
 },
 "nbformat": 4,
 "nbformat_minor": 4
}
