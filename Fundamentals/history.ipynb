{
 "cells": [
  {
   "cell_type": "markdown",
   "metadata": {},
   "source": [
    "## **A Condensed history of Python**"
   ]
  },
  {
   "cell_type": "markdown",
   "metadata": {},
   "source": [
    "<img src=\"https://media.giphy.com/media/IHnROpQICe4kE/giphy.gif\" width=500>"
   ]
  },
  {
   "cell_type": "markdown",
   "metadata": {},
   "source": [
    "## **Simplification is done via abstraction**\n",
    "\n",
    "### Calculate the nth Fibonacci number:\n",
    "---\n",
    "<img src=\"fibonacci_sequence.png\" width=500>"
   ]
  },
  {
   "cell_type": "markdown",
   "metadata": {},
   "source": [
    "\n",
    "### x86 machine code\n",
    "---\n",
    "<pre>10001011010101000010010000001000 10000011111110100000000001110111 \n",
    "110101110000000000000000000 1100001110000011\n",
    "11111010000000100111011100000110 10111000000000010000000000000000 \n",
    "110000110101001110111011 1000000000000000000000000\n",
    "10111001000000010000000000000000 100011010000010000011001 \n",
    "10000011111110100000001101110110 111100010111101100110001001\n",
    "11000001010010101110101111110001 101101111000011\n",
    "</pre>\n",
    "\n",
    "### x86 Hexadecimal\n",
    "---\n",
    "<pre>8B542408 83FA0077 06B80000 0000C383\n",
    "FA027706 B8010000 00C353BB 01000000\n",
    "B9010000 008D0419 83FA0376 078BD989\n",
    "C14AEBF1 5BC3\n",
    "</pre>\n",
    "\n",
    "### x86 Assembly\n",
    "---\n",
    "```\n",
    "fib:\n",
    "    mov edx, [esp+8]\n",
    "    cmp edx, 0\n",
    "    ja @f\n",
    "    mov eax, 0\n",
    "    ret\n",
    "    \n",
    "    @@:\n",
    "    cmp edx, 2\n",
    "    ja @f\n",
    "    mov eax, 1\n",
    "    ret\n",
    "    \n",
    "    @@:\n",
    "    push ebx\n",
    "    mov ebx, 1\n",
    "    mov ecx, 1\n",
    "    \n",
    "    @@:\n",
    "        lea eax, [ebx+ecx]\n",
    "        cmp edx, 3\n",
    "        jbe @f\n",
    "        mov ebx, ecx\n",
    "        mov ecx, eax\n",
    "        dec edx\n",
    "    jmp @b\n",
    "    \n",
    "    @@:\n",
    "    pop ebx\n",
    "    ret\n",
    "```\n",
    "\n",
    "### C\n",
    "---\n",
    "```C\n",
    "unsigned fib(unsigned n) {\n",
    "   if (!n)\n",
    "       return 0;\n",
    "   else if (n <= 2)\n",
    "       return 1;\n",
    "   else {\n",
    "       unsigned a, c;\n",
    "       for (a = c = 1; ; --n) {\n",
    "           c += a;\n",
    "           if (n <= 3) return c;\n",
    "           a = c - a;\n",
    "       }\n",
    "   }\n",
    "}\n",
    "```\n",
    "\n",
    "### Python\n",
    "---"
   ]
  },
  {
   "cell_type": "code",
   "execution_count": 25,
   "metadata": {},
   "outputs": [],
   "source": [
    "def fibonacci_number(n):\n",
    "    if n == 0: return 0\n",
    "    elif n == 1: return 1\n",
    "    else: return fibonacci_number(n-1)+fibonacci_number(n-2)"
   ]
  },
  {
   "cell_type": "markdown",
   "metadata": {},
   "source": [
    "### Try it out!\n",
    "---"
   ]
  },
  {
   "cell_type": "code",
   "execution_count": null,
   "metadata": {},
   "outputs": [],
   "source": [
    "fibonacci_number(enter number here)"
   ]
  },
  {
   "cell_type": "markdown",
   "metadata": {},
   "source": [
    "### Creator of Python\n",
    "---"
   ]
  },
  {
   "cell_type": "code",
   "execution_count": 1,
   "metadata": {},
   "outputs": [
    {
     "data": {
      "text/html": [
       "<iframe width=\"560\" height=\"315\" src=\"https://www.youtube.com/embed/J0Aq44Pze-w\" frameborder=\"0\" allow=\"accelerometer; autoplay; encrypted-media; gyroscope; picture-in-picture\" allowfullscreen></iframe>\n"
      ],
      "text/plain": [
       "<IPython.core.display.HTML object>"
      ]
     },
     "metadata": {},
     "output_type": "display_data"
    }
   ],
   "source": [
    "%%HTML\n",
    "<iframe width=\"560\" height=\"315\" src=\"https://www.youtube.com/embed/J0Aq44Pze-w\" frameborder=\"0\" allow=\"accelerometer; autoplay; encrypted-media; gyroscope; picture-in-picture\" allowfullscreen></iframe>"
   ]
  },
  {
   "cell_type": "markdown",
   "metadata": {},
   "source": [
    "## Why is Python used for machine learning?\n",
    "---\n",
    "* #### Python is built on C.\n",
    "* #### Python is great for prototyping\n",
    "* #### Intertia"
   ]
  },
  {
   "cell_type": "markdown",
   "metadata": {},
   "source": [
    "## Should I learn Python?\n",
    "---\n",
    "* #### Do you already use a programming language?\n",
    "* #### Are you a software engineer, or a subject matter expert?\n",
    "* #### For most, familiarity with Python is probably more important."
   ]
  }
 ],
 "metadata": {
  "kernelspec": {
   "display_name": "Python 3",
   "language": "python",
   "name": "python3"
  },
  "language_info": {
   "codemirror_mode": {
    "name": "ipython",
    "version": 3
   },
   "file_extension": ".py",
   "mimetype": "text/x-python",
   "name": "python",
   "nbconvert_exporter": "python",
   "pygments_lexer": "ipython3",
   "version": "3.6.8"
  }
 },
 "nbformat": 4,
 "nbformat_minor": 4
}
